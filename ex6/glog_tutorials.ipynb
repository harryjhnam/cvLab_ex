{
 "cells": [
  {
   "cell_type": "code",
   "execution_count": 29,
   "metadata": {},
   "outputs": [],
   "source": [
    "import glog as log"
   ]
  },
  {
   "cell_type": "code",
   "execution_count": 30,
   "metadata": {},
   "outputs": [
    {
     "data": {
      "text/plain": [
       "['CaptureWarningsFlag',\n",
       " 'DEBUG',\n",
       " 'ERROR',\n",
       " 'FATAL',\n",
       " 'FLAGS',\n",
       " 'FailedCheckException',\n",
       " 'GLOG_PREFIX_REGEX',\n",
       " 'GlogFormatter',\n",
       " 'INFO',\n",
       " 'VerbosityParser',\n",
       " 'WARN',\n",
       " 'WARNING',\n",
       " '__builtins__',\n",
       " '__cached__',\n",
       " '__doc__',\n",
       " '__file__',\n",
       " '__loader__',\n",
       " '__name__',\n",
       " '__package__',\n",
       " '__spec__',\n",
       " '_level_letters',\n",
       " '_level_names',\n",
       " 'check',\n",
       " 'check_eq',\n",
       " 'check_failed',\n",
       " 'check_ge',\n",
       " 'check_gt',\n",
       " 'check_le',\n",
       " 'check_lt',\n",
       " 'check_ne',\n",
       " 'check_notnone',\n",
       " 'debug',\n",
       " 'error',\n",
       " 'exception',\n",
       " 'fatal',\n",
       " 'flags',\n",
       " 'format_message',\n",
       " 'format_stacktrace',\n",
       " 'handler',\n",
       " 'info',\n",
       " 'init',\n",
       " 'log',\n",
       " 'logger',\n",
       " 'logging',\n",
       " 'os',\n",
       " 'setLevel',\n",
       " 'time',\n",
       " 'traceback',\n",
       " 'warn',\n",
       " 'warning']"
      ]
     },
     "execution_count": 30,
     "metadata": {},
     "output_type": "execute_result"
    }
   ],
   "source": [
    "dir(log)"
   ]
  },
  {
   "cell_type": "code",
   "execution_count": 28,
   "metadata": {
    "scrolled": true
   },
   "outputs": [
    {
     "name": "stderr",
     "output_type": "stream",
     "text": [
      "I0726 13:07:42.150097 47964 <ipython-input-28-07ef76388100>:2] It works.\n",
      "W0726 13:07:42.153305 47964 <ipython-input-28-07ef76388100>:3] Something not ideal\n",
      "E0726 13:07:42.155121 47964 <ipython-input-28-07ef76388100>:4] Something went wrong\n",
      "F0726 13:07:42.156963 47964 <ipython-input-28-07ef76388100>:5] AAAAAAAAAAAAAAA!\n"
     ]
    }
   ],
   "source": [
    "log.setLevel(\"INFO\")  # Integer levels are also allowed.\n",
    "log.info(\"It works.\")\n",
    "log.warn(\"Something not ideal\")\n",
    "log.error(\"Something went wrong\")\n",
    "log.fatal(\"AAAAAAAAAAAAAAA!\")"
   ]
  },
  {
   "cell_type": "code",
   "execution_count": 54,
   "metadata": {},
   "outputs": [
    {
     "name": "stdout",
     "output_type": "stream",
     "text": [
      "3.1622776601683795\n"
     ]
    }
   ],
   "source": [
    "import math\n",
    "\n",
    "def compute_sqrt(a):\n",
    "    log.check_eq(type(a), float)\n",
    "    log.debug(\"#require floating point types\")\n",
    "    log.check_ge(a, 0)\n",
    "    log.debug(\"#require non-negative values\")\n",
    "    value = math.sqrt(a)\n",
    "    return value\n",
    "\n",
    "if __name__ == '__main__':\n",
    "    val = compute_sqrt(10.)\n",
    "    print(val)"
   ]
  },
  {
   "cell_type": "code",
   "execution_count": null,
   "metadata": {},
   "outputs": [],
   "source": []
  }
 ],
 "metadata": {
  "kernelspec": {
   "display_name": "Python 3",
   "language": "python",
   "name": "python3"
  },
  "language_info": {
   "codemirror_mode": {
    "name": "ipython",
    "version": 3
   },
   "file_extension": ".py",
   "mimetype": "text/x-python",
   "name": "python",
   "nbconvert_exporter": "python",
   "pygments_lexer": "ipython3",
   "version": "3.6.5"
  }
 },
 "nbformat": 4,
 "nbformat_minor": 2
}
