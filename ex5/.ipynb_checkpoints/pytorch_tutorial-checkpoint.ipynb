{
 "cells": [
  {
   "cell_type": "code",
   "execution_count": 17,
   "metadata": {},
   "outputs": [],
   "source": [
    "from __future__ import print_function\n",
    "import torch"
   ]
  },
  {
   "cell_type": "code",
   "execution_count": 19,
   "metadata": {},
   "outputs": [
    {
     "name": "stdout",
     "output_type": "stream",
     "text": [
      "torch.Size([5, 3])\n",
      "tensor([[ 0.5764,  0.3800,  0.4452],\n",
      "        [ 0.3378,  0.9869,  0.9268],\n",
      "        [ 0.4600,  0.3251,  0.3459],\n",
      "        [ 0.4266,  0.6493,  0.4451],\n",
      "        [ 0.4934,  0.3060,  0.6871]])\n"
     ]
    }
   ],
   "source": [
    "#x=torch.empty(5,3)\n",
    "x = torch.rand(5,3)\n",
    "print(x.shape)\n",
    "print(x)"
   ]
  },
  {
   "cell_type": "code",
   "execution_count": 24,
   "metadata": {},
   "outputs": [
    {
     "name": "stdout",
     "output_type": "stream",
     "text": [
      "tensor([[ 0,  0,  0],\n",
      "        [ 0,  0,  0],\n",
      "        [ 0,  0,  0],\n",
      "        [ 0,  0,  0],\n",
      "        [ 0,  0,  0]])\n"
     ]
    }
   ],
   "source": [
    "x = torch.zeros(5,3,dtype=torch.long)\n",
    "print(x)"
   ]
  },
  {
   "cell_type": "code",
   "execution_count": 26,
   "metadata": {},
   "outputs": [
    {
     "name": "stdout",
     "output_type": "stream",
     "text": [
      "tensor([ 5.5000,  4.0000])\n"
     ]
    }
   ],
   "source": [
    "x = torch.tensor([5.5,4])\n",
    "print(x)"
   ]
  },
  {
   "cell_type": "code",
   "execution_count": 34,
   "metadata": {},
   "outputs": [
    {
     "name": "stdout",
     "output_type": "stream",
     "text": [
      "tensor([[ 1.,  1.,  1.],\n",
      "        [ 1.,  1.,  1.],\n",
      "        [ 1.,  1.,  1.],\n",
      "        [ 1.,  1.,  1.],\n",
      "        [ 1.,  1.,  1.]], dtype=torch.float64)\n",
      "tensor([[-0.0503, -1.8902, -0.2145],\n",
      "        [-0.1582,  1.7276,  2.0383],\n",
      "        [-1.4388,  0.5148,  0.3025],\n",
      "        [-0.9677,  1.0876, -0.1040],\n",
      "        [ 3.0304,  1.3934, -0.5065]])\n"
     ]
    }
   ],
   "source": [
    "x = x.new_ones(5,3,dtype=torch.double)\n",
    "print(x)\n",
    "\n",
    "x = torch.randn_like(x,dtype=torch.float)\n",
    "print(x)"
   ]
  },
  {
   "cell_type": "code",
   "execution_count": 35,
   "metadata": {},
   "outputs": [
    {
     "name": "stdout",
     "output_type": "stream",
     "text": [
      "torch.Size([5, 3])\n"
     ]
    }
   ],
   "source": [
    "print(x.size())"
   ]
  },
  {
   "cell_type": "code",
   "execution_count": 38,
   "metadata": {},
   "outputs": [
    {
     "name": "stdout",
     "output_type": "stream",
     "text": [
      "tensor([[ 0.1316, -1.4501, -0.1462],\n",
      "        [ 0.2084,  1.9330,  2.3555],\n",
      "        [-0.6036,  1.1263,  0.3741],\n",
      "        [-0.6652,  1.2551,  0.1132],\n",
      "        [ 3.9274,  1.6925,  0.2782]])\n",
      "tensor([[ 0.1316, -1.4501, -0.1462],\n",
      "        [ 0.2084,  1.9330,  2.3555],\n",
      "        [-0.6036,  1.1263,  0.3741],\n",
      "        [-0.6652,  1.2551,  0.1132],\n",
      "        [ 3.9274,  1.6925,  0.2782]])\n",
      "tensor([[ 0.1316, -1.4501, -0.1462],\n",
      "        [ 0.2084,  1.9330,  2.3555],\n",
      "        [-0.6036,  1.1263,  0.3741],\n",
      "        [-0.6652,  1.2551,  0.1132],\n",
      "        [ 3.9274,  1.6925,  0.2782]])\n",
      "tensor([[ 0.1316, -1.4501, -0.1462],\n",
      "        [ 0.2084,  1.9330,  2.3555],\n",
      "        [-0.6036,  1.1263,  0.3741],\n",
      "        [-0.6652,  1.2551,  0.1132],\n",
      "        [ 3.9274,  1.6925,  0.2782]])\n"
     ]
    }
   ],
   "source": [
    "y = torch.rand(5,3)\n",
    "print(x+y)\n",
    "print(torch.add(x,y))\n",
    "\n",
    "result = torch.empty(5,3)\n",
    "torch.add(x,y,out=result)\n",
    "print(result)\n",
    "\n",
    "y.add_(x)\n",
    "print(y)"
   ]
  },
  {
   "cell_type": "code",
   "execution_count": 46,
   "metadata": {},
   "outputs": [
    {
     "name": "stdout",
     "output_type": "stream",
     "text": [
      "tensor([[ 0.9572,  0.5363, -1.5799,  0.7782],\n",
      "        [-0.3988,  0.1053, -0.3162,  1.2380],\n",
      "        [ 0.6469, -0.9533, -0.6576, -1.3382],\n",
      "        [-0.2023,  0.3712,  0.9101, -0.6084]])\n",
      "tensor([ 0.5363,  0.1053, -0.9533,  0.3712])\n"
     ]
    }
   ],
   "source": [
    "print(x)\n",
    "print(x[:,1])"
   ]
  },
  {
   "cell_type": "code",
   "execution_count": 47,
   "metadata": {},
   "outputs": [
    {
     "name": "stdout",
     "output_type": "stream",
     "text": [
      "torch.Size([4, 4]) torch.Size([16]) torch.Size([2, 8])\n"
     ]
    }
   ],
   "source": [
    "x = torch.randn(4, 4)\n",
    "y = x.view(16)\n",
    "z = x.view(-1, 8)  # the size -1 is inferred from other dimensions\n",
    "print(x.size(), y.size(), z.size())"
   ]
  },
  {
   "cell_type": "code",
   "execution_count": 49,
   "metadata": {},
   "outputs": [
    {
     "name": "stdout",
     "output_type": "stream",
     "text": [
      "tensor([-0.4522]) tensor([ 0.2011])\n",
      "-0.45220598578453064 0.20106250047683716\n"
     ]
    }
   ],
   "source": [
    "x = torch.randn(1)\n",
    "y = torch.rand(1)\n",
    "print(x,y)\n",
    "print(x.item(),y.item())"
   ]
  },
  {
   "cell_type": "code",
   "execution_count": 52,
   "metadata": {},
   "outputs": [
    {
     "name": "stdout",
     "output_type": "stream",
     "text": [
      "tensor([ 1.,  1.,  1.,  1.,  1.])\n",
      "[1. 1. 1. 1. 1.]\n",
      "tensor([ 2.,  2.,  2.,  2.,  2.])\n",
      "[2. 2. 2. 2. 2.]\n"
     ]
    }
   ],
   "source": [
    "a = torch.ones(5)\n",
    "print(a)\n",
    "\n",
    "b = a.numpy()\n",
    "print(b)\n",
    "\n",
    "a.add_(1)\n",
    "print(a)\n",
    "print(b)"
   ]
  },
  {
   "cell_type": "code",
   "execution_count": 53,
   "metadata": {},
   "outputs": [
    {
     "name": "stdout",
     "output_type": "stream",
     "text": [
      "[1. 1. 1. 1. 1.]\n",
      "tensor([ 1.,  1.,  1.,  1.,  1.], dtype=torch.float64)\n",
      "[2. 2. 2. 2. 2.]\n",
      "tensor([ 2.,  2.,  2.,  2.,  2.], dtype=torch.float64)\n"
     ]
    }
   ],
   "source": [
    "import numpy as np\n",
    "\n",
    "a = np.ones(5)\n",
    "print(a)\n",
    "b = torch.from_numpy(a)\n",
    "print(b)\n",
    "\n",
    "np.add(a,1,out=a)\n",
    "print(a)\n",
    "print(b)\n"
   ]
  },
  {
   "cell_type": "code",
   "execution_count": 54,
   "metadata": {},
   "outputs": [
    {
     "name": "stdout",
     "output_type": "stream",
     "text": [
      "tensor([[  6,  16],\n",
      "        [  2,  15]])\n"
     ]
    }
   ],
   "source": [
    "a = torch.tensor([[2,4],\n",
    "                  [2,3]])\n",
    "b = torch.tensor([[3,4],\n",
    "                  [1,5]])\n",
    "print(a*b)"
   ]
  },
  {
   "cell_type": "code",
   "execution_count": null,
   "metadata": {},
   "outputs": [],
   "source": []
  }
 ],
 "metadata": {
  "kernelspec": {
   "display_name": "Python 3",
   "language": "python",
   "name": "python3"
  },
  "language_info": {
   "codemirror_mode": {
    "name": "ipython",
    "version": 3
   },
   "file_extension": ".py",
   "mimetype": "text/x-python",
   "name": "python",
   "nbconvert_exporter": "python",
   "pygments_lexer": "ipython3",
   "version": "3.6.5"
  }
 },
 "nbformat": 4,
 "nbformat_minor": 2
}
