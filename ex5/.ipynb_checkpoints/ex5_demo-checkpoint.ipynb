{
 "cells": [
  {
   "cell_type": "code",
   "execution_count": 1,
   "metadata": {},
   "outputs": [],
   "source": [
    "import torch\n",
    "import torch.nn.init as init\n",
    "from torch.autograd import Variable\n",
    "\n",
    "import torchvision.utils as utils\n",
    "import torchvision.datasets as dsets\n",
    "import torchvision.transforms as transforms\n",
    "torch.manual_seed(8)\n",
    "\n",
    "import matplotlib.pyplot as plt\n",
    "import numpy as np"
   ]
  },
  {
   "cell_type": "code",
   "execution_count": 2,
   "metadata": {},
   "outputs": [
    {
     "name": "stdout",
     "output_type": "stream",
     "text": [
      "torch.Size([60000, 28, 28])\n",
      "torch.Size([60000])\n"
     ]
    },
    {
     "data": {
      "image/png": "[encoded data removed]",
      "text/plain": [
       "<Figure size 432x288 with 1 Axes>"
      ]
     },
     "metadata": {},
     "output_type": "display_data"
    }
   ],
   "source": [
    "#MNIST dataset\n",
    "\n",
    "mnist_train = dsets.MNIST(root = 'data/',\n",
    "                          train = True,\n",
    "                          transform = transforms.ToTensor(),\n",
    "                          download = True)\n",
    "mnist_test = dsets.MNIST(root = 'data/',\n",
    "                         train = False,\n",
    "                         transform = transforms.ToTensor(),\n",
    "                         download = True)\n",
    "\n",
    "print(mnist_train.train_data.size())\n",
    "print(mnist_train.train_labels.size())\n",
    "\n",
    "idx = 0\n",
    "plt.imshow(mnist_train.train_data[idx,:,:].numpy(),cmap='gray')\n",
    "plt.title('%i' %mnist_train.train_labels[idx])\n",
    "plt.show()"
   ]
  },
  {
   "cell_type": "code",
   "execution_count": 3,
   "metadata": {},
   "outputs": [
    {
     "name": "stdout",
     "output_type": "stream",
     "text": [
      "torch.Size([100, 1, 28, 28])\n",
      "torch.Size([100])\n"
     ]
    },
    {
     "data": {
      "image/png": "[encoded data removed]",
      "text/plain": [
       "<Figure size 432x288 with 1 Axes>"
      ]
     },
     "metadata": {},
     "output_type": "display_data"
    },
    {
     "name": "stdout",
     "output_type": "stream",
     "text": [
      "[3 2 3 2 1 6 0 4 7 0 0 4 9 2 4 9 3 3 0 3 6 1 4 5 2 5 7 6 7 8 8 2 4 1 8 4 3\n",
      " 6 9 2 2 4 1 0 3 9 2 1 5 6 6 1 1 1 0 0 5 0 7 9 2 3 9 6 4 6 9 6 9 0 8 0 1 7\n",
      " 3 3 8 7 9 4 7 4 2 2 8 5 6 9 6 7 9 1 2 0 3 6 9 2 9 6]\n"
     ]
    }
   ],
   "source": [
    "#Data loader\n",
    "\n",
    "batch_size = 100\n",
    "\n",
    "data_loader = torch.utils.data.DataLoader(dataset = mnist_train,\n",
    "                                          batch_size = batch_size,\n",
    "                                          shuffle = True,\n",
    "                                          num_workers = 1)\n",
    "\n",
    "def imshow(img):\n",
    "    img = img/2+0.5\n",
    "    npimg = img.numpy()\n",
    "    plt.imshow(np.transpose(npimg,(1,2,0)))\n",
    "    plt.show()\n",
    "\n",
    "batch_images, batch_labels = next(iter(data_loader))\n",
    "\n",
    "print(batch_images.size())\n",
    "print(batch_labels.size())\n",
    "\n",
    "imshow(utils.make_grid(batch_images))\n",
    "print(batch_labels.numpy())"
   ]
  },
  {
   "cell_type": "code",
   "execution_count": 12,
   "metadata": {
    "scrolled": true
   },
   "outputs": [
    {
     "name": "stdout",
     "output_type": "stream",
     "text": [
      "Sequential(\n",
      "  (0): Linear(in_features=784, out_features=512, bias=True)\n",
      "  (1): ReLU()\n",
      "  (2): Linear(in_features=512, out_features=10, bias=True)\n",
      ")\n"
     ]
    }
   ],
   "source": [
    "#Define Neural Network\n",
    "\n",
    "linear1 = torch.nn.Linear(784,512,bias=True)\n",
    "linear2 = torch.nn.Linear(512,10,bias=True)\n",
    "relu = torch.nn.ReLU()\n",
    "sigmoid = torch.nn.Sigmoid()\n",
    "\n",
    "model = torch.nn.Sequential(linear1,relu,linear2)\n",
    "    \n",
    "print(model)\n",
    "\n",
    "cost_func = torch.nn.CrossEntropyLoss() #including softmax"
   ]
  },
  {
   "cell_type": "code",
   "execution_count": 17,
   "metadata": {},
   "outputs": [
    {
     "name": "stdout",
     "output_type": "stream",
     "text": [
      "[Epoch: 1] cost = 0.2573576271533966\n"
     ]
    },
    {
     "name": "stderr",
     "output_type": "stream",
     "text": [
      "/Users/namjuhyeon/.virtualenvs/cv/lib/python3.6/site-packages/ipykernel_launcher.py:23: UserWarning: invalid index of a 0-dim tensor. This will be an error in PyTorch 0.5. Use tensor.item() to convert a 0-dim tensor to a Python number\n"
     ]
    },
    {
     "name": "stdout",
     "output_type": "stream",
     "text": [
      "[Epoch: 2] cost = 0.11023923754692078\n",
      "[Epoch: 3] cost = 0.07194071263074875\n",
      "[Epoch: 4] cost = 0.05145283415913582\n",
      "[Epoch: 5] cost = 0.037578292191028595\n",
      "Learning finished!\n"
     ]
    }
   ],
   "source": [
    "#Model training\n",
    "learning_rate = 0.001\n",
    "training_epochs = 5\n",
    "\n",
    "optimizer = torch.optim.Adam(model.parameters(), lr = learning_rate)\n",
    "\n",
    "for epoch in range(training_epochs):\n",
    "    avg_cost = 0\n",
    "    total_batch = len(mnist_train)//batch_size\n",
    "    \n",
    "    for i, (batch_images,batch_labels) in enumerate(data_loader):\n",
    "        X = Variable(batch_images.view(-1,28*28))\n",
    "        Y = Variable(batch_labels)\n",
    "    \n",
    "        optimizer.zero_grad()\n",
    "        Y_prediction = model(X)\n",
    "        cost = cost_func(Y_prediction,Y)\n",
    "        cost.backward()\n",
    "        optimizer.step()\n",
    "        \n",
    "        avg_cost += cost/total_batch\n",
    "\n",
    "    print(\"[Epoch: {}] cost = {}\".format(epoch+1, avg_cost.data[0].item()))\n",
    "\n",
    "print(\"Learning finished!\")"
   ]
  },
  {
   "cell_type": "code",
   "execution_count": 18,
   "metadata": {},
   "outputs": [
    {
     "name": "stdout",
     "output_type": "stream",
     "text": [
      "Saving model...\n",
      "Model is saved!\n"
     ]
    }
   ],
   "source": [
    "#Saving model\n",
    "\n",
    "print(\"Saving model...\")\n",
    "torch.save(model.state_dict(),'model.pkl')\n",
    "print(\"Model is saved!\")"
   ]
  },
  {
   "cell_type": "code",
   "execution_count": 19,
   "metadata": {},
   "outputs": [
    {
     "name": "stdout",
     "output_type": "stream",
     "text": [
      "Accuracy of the network on the 10000 test images: 97 %\n"
     ]
    }
   ],
   "source": [
    "#Measuring performance\n",
    "correct = 0\n",
    "total = 0\n",
    "for images, labels in mnist_test:\n",
    "    images  = Variable(images.view(-1, 28 * 28))\n",
    "    outputs = model(images)\n",
    "    _, predicted = torch.max(outputs.data, 1)\n",
    "    total += 1\n",
    "    correct += (predicted == labels).sum()\n",
    "    \n",
    "print('Accuracy of the network on the 10000 test images: %d %%' % (100 * correct / total))"
   ]
  },
  {
   "cell_type": "code",
   "execution_count": null,
   "metadata": {},
   "outputs": [],
   "source": []
  }
 ],
 "metadata": {
  "kernelspec": {
   "display_name": "Python 3",
   "language": "python",
   "name": "python3"
  },
  "language_info": {
   "codemirror_mode": {
    "name": "ipython",
    "version": 3
   },
   "file_extension": ".py",
   "mimetype": "text/x-python",
   "name": "python",
   "nbconvert_exporter": "python",
   "pygments_lexer": "ipython3",
   "version": "3.6.5"
  }
 },
 "nbformat": 4,
 "nbformat_minor": 2
}
