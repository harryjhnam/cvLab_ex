{
 "cells": [
  {
   "cell_type": "code",
   "execution_count": 2,
   "metadata": {},
   "outputs": [],
   "source": [
    "import torch\n",
    "import torch.nn.init as init\n",
    "from torch.autograd import Variable\n",
    "\n",
    "import torchvision.utils as utils\n",
    "import torchvision.transforms as transforms\n",
    "torch.manual_seed(8)\n",
    "\n",
    "import numpy as np\n",
    "\n",
    "import glog\n",
    "import time\n",
    "from tensorboardX import SummaryWriter\n",
    "\n",
    "writer = SummaryWriter()"
   ]
  },
  {
   "cell_type": "markdown",
   "metadata": {},
   "source": [
    "### 1. Loading MNIST dataset"
   ]
  },
  {
   "cell_type": "code",
   "execution_count": 11,
   "metadata": {},
   "outputs": [
    {
     "name": "stdout",
     "output_type": "stream",
     "text": [
      "torch.Size([60000, 28, 28])\n",
      "torch.Size([60000])\n"
     ]
    },
    {
     "data": {
      "image/png": "[encoded data removed]",
      "text/plain": [
       "<Figure size 432x288 with 1 Axes>"
      ]
     },
     "metadata": {},
     "output_type": "display_data"
    }
   ],
   "source": [
    "\"\"\"download the dataset and set dataloader\"\"\"\n",
    "import torchvision.datasets as dsets\n",
    "\n",
    "batch_size = 100\n",
    "\n",
    "trainset = dsets.MNIST(root = 'data/', train = True,\n",
    "                       transform = transforms.ToTensor(), download = True)\n",
    "\n",
    "train_loader = torch.utils.data.DataLoader(trainset, batch_size=batch_size, \n",
    "                                           shuffle=True, num_workers=2)\n",
    "\n",
    "testset = dsets.MNIST(root = 'data/', train = False,\n",
    "                      transform = transforms.ToTensor(), download = True)\n",
    "\n",
    "test_loader = torch.utils.data.DataLoader(testset, batch_size=batch_size, \n",
    "                                          shuffle=True, num_workers=2)\n",
    "\n",
    "print(trainset.train_data.size())\n",
    "print(trainset.train_labels.size())\n",
    "\n",
    "\n",
    "\"\"\"ploating first image and label of train set\"\"\"\n",
    "import matplotlib.pyplot as plt\n",
    "\n",
    "idx = 0\n",
    "plt.imshow(trainset.train_data[idx,:,:].numpy(),cmap='gray')\n",
    "plt.title('%i' %trainset.train_labels[idx])\n",
    "plt.show()"
   ]
  },
  {
   "cell_type": "code",
   "execution_count": 12,
   "metadata": {},
   "outputs": [
    {
     "name": "stdout",
     "output_type": "stream",
     "text": [
      "torch.Size([100, 1, 28, 28])\n",
      "torch.Size([100])\n"
     ]
    },
    {
     "data": {
      "image/png": "[encoded data removed]",
      "text/plain": [
       "<Figure size 432x288 with 1 Axes>"
      ]
     },
     "metadata": {},
     "output_type": "display_data"
    },
    {
     "name": "stdout",
     "output_type": "stream",
     "text": [
      "[1 9 0 6 1 9 5 9 1 2 6 3 2 6 4 0 9 9 2 1 5 9 3 3 2 7 8 3 8 5 3 9 7 8 6 8 0\n",
      " 8 9 1 0 4 2 6 1 3 7 0 7 0 1 3 1 0 0 0 1 6 7 6 3 9 3 7 6 2 4 6 8 3 8 0 0 3\n",
      " 8 8 3 8 3 5 7 5 7 0 1 4 5 6 0 7 3 5 0 5 9 8 3 1 9 3]\n"
     ]
    }
   ],
   "source": [
    "\"\"\"ploating batch images and labels\"\"\"\n",
    "\n",
    "def imshow(img):\n",
    "    img = img/2+0.5\n",
    "    npimg = img.numpy()\n",
    "    plt.imshow(np.transpose(npimg,(1,2,0)))\n",
    "    plt.show()\n",
    "\n",
    "batch_images, batch_labels = next(iter(train_loader))\n",
    "\n",
    "print(batch_images.size())\n",
    "print(batch_labels.size())\n",
    "\n",
    "imshow(utils.make_grid(batch_images))\n",
    "print(batch_labels.numpy())"
   ]
  },
  {
   "cell_type": "markdown",
   "metadata": {},
   "source": [
    "### 2. Define Neural Network"
   ]
  },
  {
   "cell_type": "code",
   "execution_count": 13,
   "metadata": {
    "scrolled": true
   },
   "outputs": [
    {
     "name": "stdout",
     "output_type": "stream",
     "text": [
      "Sequential(\n",
      "  (0): Linear(in_features=784, out_features=512, bias=True)\n",
      "  (1): ReLU()\n",
      "  (2): Linear(in_features=512, out_features=10, bias=True)\n",
      ")\n"
     ]
    }
   ],
   "source": [
    "linear1 = torch.nn.Linear(784,512,bias=True)\n",
    "linear2 = torch.nn.Linear(512,10,bias=True)\n",
    "relu = torch.nn.ReLU()\n",
    "\n",
    "model = torch.nn.Sequential(linear1,relu,linear2)\n",
    "    \n",
    "print(model)\n",
    "\n",
    "loss_func = torch.nn.CrossEntropyLoss() #including softmax"
   ]
  },
  {
   "cell_type": "markdown",
   "metadata": {},
   "source": [
    "### 3. Train the Network"
   ]
  },
  {
   "cell_type": "code",
   "execution_count": 15,
   "metadata": {},
   "outputs": [
    {
     "name": "stderr",
     "output_type": "stream",
     "text": [
      "W0723 16:37:43.884586 42207 warnings.py:99] /Users/namjuhyeon/.virtualenvs/cv/lib/python3.6/site-packages/ipykernel_launcher.py:29: UserWarning: invalid index of a 0-dim tensor. This will be an error in PyTorch 0.5. Use tensor.item() to convert a 0-dim tensor to a Python number\n",
      "\n"
     ]
    },
    {
     "name": "stdout",
     "output_type": "stream",
     "text": [
      "[Epoch: 1] cost = 0.2868266701698303\n",
      "         training takes 7.432463884353638 secs\n",
      "[Epoch: 2] cost = 0.11717309802770615\n",
      "         training takes 7.763728141784668 secs\n",
      "[Epoch: 3] cost = 0.07590185105800629\n",
      "         training takes 7.901408910751343 secs\n",
      "[Epoch: 4] cost = 0.05392028018832207\n",
      "         training takes 8.122360944747925 secs\n",
      "[Epoch: 5] cost = 0.03922678530216217\n",
      "         training takes 8.002316951751709 secs\n",
      "Learning finished!\n"
     ]
    }
   ],
   "source": [
    "\"\"\"hyperparameters\"\"\"\n",
    "\n",
    "learning_rate = 0.001\n",
    "training_epochs = 5\n",
    "\n",
    "optimizer = torch.optim.Adam(model.parameters(), lr = learning_rate)\n",
    "\n",
    "\n",
    "\"\"\"training\"\"\"\n",
    "\n",
    "for epoch in range(training_epochs):\n",
    "    avg_loss = 0\n",
    "    total_batch = len(trainset)//batch_size\n",
    "    start_time = time.time()\n",
    "    \n",
    "    for i, (batch_images,batch_labels) in enumerate(train_loader):\n",
    "        X = Variable(batch_images.view(-1,28*28))\n",
    "        Y = Variable(batch_labels)\n",
    "    \n",
    "        optimizer.zero_grad()\n",
    "        Y_prediction = model(X)\n",
    "        loss = loss_func(Y_prediction,Y)\n",
    "        loss.backward()\n",
    "        optimizer.step()\n",
    "        \n",
    "        avg_loss += loss/total_batch\n",
    "        writer.add_scalar('Train/Loss', loss, epoch*batch_size+i)\n",
    "\n",
    "    print(\"[Epoch: {}] cost = {}\".format(epoch+1, avg_loss.data[0].item()))\n",
    "    print(\"         training takes {} secs\".format(time.time()-start_time))\n",
    "    \n",
    "print(\"Learning finished!\")"
   ]
  },
  {
   "cell_type": "code",
   "execution_count": 16,
   "metadata": {},
   "outputs": [
    {
     "name": "stdout",
     "output_type": "stream",
     "text": [
      "Saving model...\n",
      "Model is saved!\n"
     ]
    }
   ],
   "source": [
    "#Saving model\n",
    "\n",
    "print(\"Saving model...\")\n",
    "torch.save(model.state_dict(),'model.pkl')\n",
    "print(\"Model is saved!\")"
   ]
  },
  {
   "cell_type": "code",
   "execution_count": 18,
   "metadata": {},
   "outputs": [
    {
     "name": "stdout",
     "output_type": "stream",
     "text": [
      "Accuracy of the network on the 10000 test images: 97 %\n"
     ]
    }
   ],
   "source": [
    "#Measuring performance\n",
    "correct = 0\n",
    "total = 0\n",
    "for images, labels in testset:\n",
    "    images  = Variable(images.view(-1, 28 * 28))\n",
    "    outputs = model(images)\n",
    "    _, predicted = torch.max(outputs.data, 1)\n",
    "    total += 1\n",
    "    correct += (predicted == labels).sum()\n",
    "    \n",
    "print('Accuracy of the network on the 10000 test images: %d %%' % (100 * correct / total))"
   ]
  },
  {
   "cell_type": "code",
   "execution_count": null,
   "metadata": {},
   "outputs": [],
   "source": []
  }
 ],
 "metadata": {
  "kernelspec": {
   "display_name": "Python 3",
   "language": "python",
   "name": "python3"
  },
  "language_info": {
   "codemirror_mode": {
    "name": "ipython",
    "version": 3
   },
   "file_extension": ".py",
   "mimetype": "text/x-python",
   "name": "python",
   "nbconvert_exporter": "python",
   "pygments_lexer": "ipython3",
   "version": "3.6.5"
  }
 },
 "nbformat": 4,
 "nbformat_minor": 2
}
